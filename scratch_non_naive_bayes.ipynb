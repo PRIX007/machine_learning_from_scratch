{
  "nbformat": 4,
  "nbformat_minor": 0,
  "metadata": {
    "colab": {
      "name": "scratch_non_naive_bayes.ipynb",
      "provenance": []
    },
    "kernelspec": {
      "name": "python3",
      "display_name": "Python 3"
    },
    "language_info": {
      "name": "python"
    }
  },
  "cells": [
    {
      "cell_type": "code",
      "metadata": {
        "colab": {
          "base_uri": "https://localhost:8080/",
          "height": 494
        },
        "id": "1IN70758tphR",
        "outputId": "0f471b79-bfce-48c3-c7fa-3a6ea749a57f"
      },
      "source": [
        "# -*- coding: utf-8 -*-\n",
        "\"\"\"\n",
        "Created on Tue Jul 14 04:05:14 2020\n",
        "NON naive bayes function\n",
        "@author: Priyanshu\n",
        "\"\"\"\n",
        "\n",
        "import numpy as np\n",
        "import pandas as pd\n",
        "from datetime import datetime\n",
        "from scipy.stats import norm\n",
        "from scipy.stats import multivariate_normal as mvn\n",
        "\n",
        "print(\"reading & transforming data to matrix \") \n",
        "dataset=pd.read_csv('Social_Network_Ads.csv') \n",
        "x=dataset.iloc[:,0:2].values\n",
        "y=dataset.iloc[:,2:].values\n",
        "\n",
        "# spliting test train\n",
        "from sklearn.model_selection import train_test_split\n",
        "x_train,x_test,y_train,y_test=train_test_split(x,y.ravel(), test_size=0.25,random_state=0 )\n",
        "\n",
        "# feature scaling\n",
        "from sklearn.preprocessing import StandardScaler\n",
        "sc_x=StandardScaler()\n",
        "x_train=sc_x.fit_transform(x_train)\n",
        "x_test=sc_x.transform(x_test)\n",
        "\n",
        "print(10e-3)\n",
        "class naive(object):\n",
        "    def fit(self,a,b,smoothing=10e-3):\n",
        "        N,D=a.shape\n",
        "        self.gaussians=dict()\n",
        "        self.priors=dict()\n",
        "        labels=set(b)\n",
        "        for c in labels:\n",
        "            current=a[b==c]\n",
        "            # how brilliantly we will use dict of fit to store mean and var\n",
        "            self.gaussians[c]={'mean':current.mean(axis=0),'cov': np.cov(current.T)+np.eye(D)*smoothing}\n",
        "            self.priors[c]=float(len(b[b==c]))/len(b)\n",
        "    # why we trnaspose the x data in covriance formula because np.cov if x,y are \n",
        "    # dimension of covariance they needto be given as as horizontal matrix of 2\n",
        "    #rows and for if you dont transpose it will give nxn matrix instead dxd reqd\n",
        "    def predict(self,a):\n",
        "        N,D=a.shape\n",
        "        K=len(self.gaussians) # no. of  labels of class \n",
        "        P=np.zeros((N,K))\n",
        "        for c,g in self.gaussians.items():\n",
        "            mean,cov=g['mean'],g['cov']\n",
        "            #print(c)\n",
        "            P[:,c]=mvn.logpdf(a,mean=mean,cov=cov)+np.log(self.priors[c])\n",
        "            #print (P)\n",
        "        return np.argmax(P,axis=1)# note p is 2d array and argmaxwilll return\n",
        "            #indices of axis 1 i.e x axis as (0 or 1) here\n",
        "        # funfact i used return just in for loop and it give error \n",
        "        # which keep to mess me for 40 minutes\n",
        "    def score(self,a,b) :\n",
        "        p=self.predict(a)\n",
        "        from sklearn.metrics import confusion_matrix\n",
        "        cm=confusion_matrix(b,p)\n",
        "\n",
        "        return np.mean(p==b),cm,p\n",
        "\n",
        "classifier=naive()\n",
        "t0=datetime.now()\n",
        "classifier.fit(x_train,y_train)\n",
        "qq=classifier.gaussians\n",
        "ll=classifier.priors\n",
        "print(\"train time\",(datetime.now()-t0))    \n",
        "t0=datetime.now()\n",
        "print(\"train accracy\",classifier.score(x_train,y_train ))\n",
        "print(\"time to acuu\",(datetime.now()-t0))\n",
        "    \n",
        "t0=datetime.now()\n",
        "print(\"test accracy\",classifier.score(x_test,y_test ))\n",
        "print(\"time to acuu\",(datetime.now()-t0))\n",
        "\n",
        "\"\"\"\n",
        "  note our predictions exactly 2 more accurate than  with in built sklearn model GaussianNB\n",
        "  ignore any irrelevant variable since needed them to debug\n",
        "\"\"\"          "
      ],
      "execution_count": 4,
      "outputs": [
        {
          "output_type": "stream",
          "text": [
            "reading & transforming data to matrix \n",
            "0.01\n",
            "train time 0:00:00.000740\n",
            "train accracy (0.89, array([[170,  19],\n",
            "       [ 14,  97]]), array([0, 1, 0, 1, 1, 1, 0, 0, 0, 0, 0, 0, 0, 1, 1, 1, 1, 0, 1, 1, 0, 1,\n",
            "       1, 1, 0, 0, 1, 1, 1, 1, 0, 1, 0, 1, 1, 0, 0, 0, 0, 1, 0, 0, 0, 0,\n",
            "       0, 1, 0, 1, 1, 0, 0, 0, 0, 0, 1, 0, 1, 0, 0, 1, 0, 0, 0, 0, 0, 0,\n",
            "       0, 1, 1, 0, 0, 0, 0, 1, 1, 1, 0, 0, 1, 1, 0, 1, 0, 1, 0, 1, 0, 0,\n",
            "       1, 1, 0, 1, 0, 1, 0, 0, 1, 1, 1, 0, 0, 0, 1, 1, 1, 1, 1, 0, 1, 0,\n",
            "       0, 1, 0, 0, 0, 0, 0, 0, 0, 1, 1, 0, 0, 1, 1, 0, 0, 0, 0, 0, 1, 0,\n",
            "       1, 1, 0, 0, 0, 0, 0, 0, 1, 0, 1, 0, 1, 1, 0, 0, 0, 0, 1, 0, 1, 0,\n",
            "       0, 1, 0, 0, 0, 0, 0, 1, 1, 1, 1, 0, 0, 0, 0, 0, 1, 1, 1, 1, 1, 0,\n",
            "       1, 0, 1, 0, 0, 0, 1, 0, 0, 1, 0, 1, 0, 1, 1, 0, 1, 0, 1, 0, 0, 1,\n",
            "       0, 0, 1, 1, 0, 0, 0, 0, 0, 1, 0, 0, 0, 0, 0, 1, 1, 1, 1, 0, 0, 0,\n",
            "       0, 0, 0, 1, 1, 0, 0, 0, 0, 1, 1, 0, 0, 0, 1, 0, 1, 0, 1, 0, 0, 0,\n",
            "       1, 0, 0, 0, 1, 0, 1, 0, 0, 0, 0, 0, 1, 1, 0, 0, 0, 0, 0, 1, 0, 0,\n",
            "       1, 0, 0, 0, 0, 0, 1, 0, 1, 0, 0, 1, 0, 0, 1, 0, 1, 0, 0, 0, 0, 0,\n",
            "       0, 1, 1, 1, 1, 0, 0, 0, 0, 1, 0, 0, 0, 1]))\n",
            "time to acuu 0:00:00.003045\n",
            "test accracy (0.92, array([[64,  4],\n",
            "       [ 4, 28]]), array([0, 0, 0, 0, 0, 0, 0, 1, 0, 1, 0, 0, 0, 0, 0, 1, 0, 0, 1, 0, 0, 1,\n",
            "       0, 1, 0, 1, 0, 0, 0, 0, 0, 0, 1, 0, 0, 0, 0, 0, 0, 1, 0, 0, 0, 0,\n",
            "       1, 0, 0, 1, 0, 1, 1, 0, 0, 1, 1, 1, 0, 0, 1, 0, 0, 1, 0, 0, 0, 1,\n",
            "       0, 0, 0, 0, 1, 0, 0, 1, 0, 0, 0, 0, 1, 1, 1, 1, 0, 0, 1, 0, 0, 1,\n",
            "       1, 0, 0, 1, 0, 0, 0, 0, 0, 1, 1, 1]))\n",
            "time to acuu 0:00:00.001916\n"
          ],
          "name": "stdout"
        },
        {
          "output_type": "execute_result",
          "data": {
            "application/vnd.google.colaboratory.intrinsic+json": {
              "type": "string"
            },
            "text/plain": [
              "'\\n  note our predictions exactly 2 more accurate than  with in built sklearn model GaussianNB\\n  ignore any irrelevant variable since needed them to debug\\n'"
            ]
          },
          "metadata": {
            "tags": []
          },
          "execution_count": 4
        }
      ]
    }
  ]
}