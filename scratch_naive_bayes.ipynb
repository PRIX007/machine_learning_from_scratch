{
  "nbformat": 4,
  "nbformat_minor": 0,
  "metadata": {
    "colab": {
      "name": "scratch_naive_bayes.ipynb",
      "provenance": []
    },
    "kernelspec": {
      "name": "python3",
      "display_name": "Python 3"
    },
    "language_info": {
      "name": "python"
    }
  },
  "cells": [
    {
      "cell_type": "code",
      "metadata": {
        "colab": {
          "base_uri": "https://localhost:8080/",
          "height": 494
        },
        "id": "1IN70758tphR",
        "outputId": "677fff9c-f880-4659-dcc1-d038a3059f21"
      },
      "source": [
        "# -*- coding: utf-8 -*-\n",
        "\"\"\"\n",
        "Created on Tue Jul 14 04:05:14 2020\n",
        "\n",
        "@author: Priyanshu\n",
        "\"\"\"\n",
        "\n",
        "import numpy as np\n",
        "import pandas as pd\n",
        "from datetime import datetime\n",
        "from scipy.stats import norm\n",
        "from scipy.stats import multivariate_normal as mvn\n",
        "\n",
        "print(\"reading & transforming data to matrix \") \n",
        "dataset=pd.read_csv('Social_Network_Ads.csv') \n",
        "x=dataset.iloc[:,0:2].values\n",
        "y=dataset.iloc[:,2:].values\n",
        "\n",
        "# spliting test train\n",
        "from sklearn.model_selection import train_test_split\n",
        "x_train,x_test,y_train,y_test=train_test_split(x,y.ravel(), test_size=0.25,random_state=0 )\n",
        "\n",
        "# feature scaling\n",
        "from sklearn.preprocessing import StandardScaler\n",
        "sc_x=StandardScaler()\n",
        "x_train=sc_x.fit_transform(x_train)\n",
        "x_test=sc_x.transform(x_test)\n",
        "\n",
        "print(10e-3)\n",
        "class naive(object):\n",
        "    def fit(self,a,b,smoothing=10e-3):\n",
        "        self.gaussians=dict()\n",
        "        self.priors=dict()\n",
        "        labels=set(b)\n",
        "        for c in labels:\n",
        "            current=a[b==c]\n",
        "            # how brilliantly we will use dict of fit to store mean and var\n",
        "            self.gaussians[c]={'mean':current.mean(axis=0),'var': current.var(axis=0)}\n",
        "            self.priors[c]=float(len(b[b==c]))/len(b)\n",
        "    \n",
        "    def predict(self,a):\n",
        "        N,D=a.shape\n",
        "        K=len(self.gaussians) # no. of  labels of class \n",
        "        P=np.zeros((N,K))\n",
        "        for c,g in self.gaussians.items():\n",
        "            mean,var=g['mean'],g['var']\n",
        "            #print(c)\n",
        "            P[:,c]=mvn.logpdf(a,mean=mean,cov=var)+np.log(self.priors[c])\n",
        "            #print (P)\n",
        "        return np.argmax(P,axis=1)# note p is 2d array and argmaxwilll return\n",
        "            #indices of axis 1 i.e x axis as (0 or 1) here\n",
        "        # funfact i used return just in for loop and it give error \n",
        "        # which keep to mess me for 40 minutes\n",
        "    def score(self,a,b) :\n",
        "        p=self.predict(a)\n",
        "        from sklearn.metrics import confusion_matrix\n",
        "        cm=confusion_matrix(b,p)\n",
        "\n",
        "        return np.mean(p==b),cm,p\n",
        "\n",
        "classifier=naive()\n",
        "t0=datetime.now()\n",
        "classifier.fit(x_train,y_train)\n",
        "qq=classifier.gaussians\n",
        "ll=classifier.priors\n",
        "print(\"train time\",(datetime.now()-t0))    \n",
        "t0=datetime.now()\n",
        "print(\"train accracy\",classifier.score(x_train,y_train ))\n",
        "print(\"time to acuu\",(datetime.now()-t0))\n",
        "    \n",
        "t0=datetime.now()\n",
        "print(\"train accracy\",classifier.score(x_test,y_test ))\n",
        "print(\"time to acuu\",(datetime.now()-t0))\n",
        "\n",
        "\"\"\"\n",
        "  note our predictions exactly matches with in built sklearn model GaussianNB\n",
        "  ignore any irrelevant variable since needed them to debug\n",
        "\"\"\"          "
      ],
      "execution_count": 3,
      "outputs": [
        {
          "output_type": "stream",
          "text": [
            "reading & transforming data to matrix \n",
            "0.01\n",
            "train time 0:00:00.000440\n",
            "train accracy (0.8833333333333333, array([[174,  15],\n",
            "       [ 20,  91]]), array([0, 1, 0, 1, 1, 1, 0, 0, 0, 0, 0, 0, 0, 1, 1, 1, 1, 0, 1, 1, 0, 1,\n",
            "       1, 1, 0, 0, 1, 1, 1, 1, 0, 1, 0, 1, 1, 0, 0, 0, 0, 0, 0, 0, 0, 0,\n",
            "       0, 1, 0, 1, 1, 0, 0, 0, 0, 0, 1, 0, 1, 0, 0, 1, 0, 0, 0, 0, 0, 0,\n",
            "       0, 0, 0, 0, 0, 0, 0, 1, 1, 1, 0, 0, 1, 1, 0, 0, 0, 1, 0, 1, 0, 0,\n",
            "       1, 1, 0, 1, 1, 1, 0, 0, 0, 1, 1, 0, 0, 0, 1, 1, 1, 1, 1, 0, 1, 0,\n",
            "       0, 1, 0, 0, 0, 0, 0, 0, 0, 1, 1, 0, 0, 1, 1, 0, 0, 0, 0, 0, 1, 0,\n",
            "       1, 1, 0, 0, 0, 0, 0, 0, 1, 0, 1, 0, 1, 0, 0, 0, 0, 0, 1, 0, 0, 0,\n",
            "       0, 1, 0, 0, 0, 0, 0, 1, 1, 1, 1, 0, 0, 0, 0, 0, 1, 1, 1, 0, 1, 0,\n",
            "       1, 0, 1, 0, 0, 0, 1, 0, 0, 1, 0, 1, 0, 1, 1, 0, 1, 0, 1, 0, 0, 0,\n",
            "       0, 0, 1, 1, 0, 0, 0, 0, 0, 1, 0, 0, 0, 0, 0, 1, 1, 1, 1, 0, 0, 0,\n",
            "       0, 0, 0, 1, 1, 0, 0, 0, 0, 1, 0, 0, 0, 0, 1, 0, 1, 0, 1, 0, 0, 0,\n",
            "       1, 0, 0, 0, 1, 0, 1, 0, 0, 0, 0, 0, 1, 1, 0, 0, 0, 0, 0, 1, 0, 0,\n",
            "       1, 0, 0, 0, 0, 0, 1, 0, 1, 0, 0, 1, 0, 0, 1, 0, 1, 0, 0, 0, 0, 0,\n",
            "       0, 1, 1, 1, 1, 0, 0, 0, 0, 1, 0, 0, 0, 0]))\n",
            "time to acuu 0:00:00.021242\n",
            "train accracy (0.9, array([[65,  3],\n",
            "       [ 7, 25]]), array([0, 0, 0, 0, 0, 0, 0, 1, 0, 1, 0, 0, 0, 0, 0, 0, 0, 0, 1, 0, 0, 1,\n",
            "       0, 1, 0, 1, 0, 0, 0, 0, 0, 0, 1, 0, 0, 0, 0, 0, 0, 1, 0, 0, 0, 0,\n",
            "       1, 0, 0, 1, 0, 1, 1, 0, 0, 1, 1, 0, 0, 0, 1, 0, 0, 1, 0, 0, 0, 1,\n",
            "       0, 0, 0, 0, 1, 0, 0, 0, 0, 0, 0, 0, 1, 1, 1, 1, 0, 0, 1, 0, 0, 1,\n",
            "       0, 0, 0, 1, 0, 0, 0, 0, 0, 1, 1, 1]))\n",
            "time to acuu 0:00:00.003611\n"
          ],
          "name": "stdout"
        },
        {
          "output_type": "execute_result",
          "data": {
            "application/vnd.google.colaboratory.intrinsic+json": {
              "type": "string"
            },
            "text/plain": [
              "'\\n  note our predictions exactly matches with in built sklearn model GaussianNB\\n  ignore any irrelevant variable since needed them to debug\\n'"
            ]
          },
          "metadata": {
            "tags": []
          },
          "execution_count": 3
        }
      ]
    }
  ]
}